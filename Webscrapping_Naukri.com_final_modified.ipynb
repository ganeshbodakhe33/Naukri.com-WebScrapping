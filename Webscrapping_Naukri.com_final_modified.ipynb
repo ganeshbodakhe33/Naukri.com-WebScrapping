{
 "cells": [
  {
   "cell_type": "code",
   "execution_count": 1,
   "id": "1cd4040c",
   "metadata": {},
   "outputs": [],
   "source": [
    "# Ganesh bodakhe\n",
    "# Problem Statement : Scrape The Data From JobStreet And Naukri.com. \n",
    "# Save the jobs info in csv files. You will create one csv file for JobStreet and one for Naukri.com."
   ]
  },
  {
   "cell_type": "code",
   "execution_count": 2,
   "id": "0b4e0331",
   "metadata": {},
   "outputs": [],
   "source": [
    "# II.) Scrape The Data From Naukri.com\n",
    "import pandas as pd\n",
    "import numpy as np\n",
    "import time\n",
    "import requests\n",
    "import selenium\n",
    "from selenium import webdriver\n",
    "import warnings\n",
    "warnings.filterwarnings('ignore')\n",
    "from bs4 import BeautifulSoup\n",
    "\n",
    "def getUrl(key):\n",
    "    key = key.replace(' ','-')\n",
    "    temp = 'https://www.naukri.com/{}-jobs'\n",
    "    url = temp.format(key)\n",
    "    return url\n",
    "    \n",
    "url = getUrl('python')\n",
    "driver = webdriver.Firefox()\n",
    "driver.get(url)"
   ]
  },
  {
   "cell_type": "code",
   "execution_count": 7,
   "id": "b57c18ee",
   "metadata": {},
   "outputs": [],
   "source": [
    "soup = BeautifulSoup(driver.page_source,'lxml')  #soup = BeautifulSoup(driver.page_source,'html.parser')"
   ]
  },
  {
   "cell_type": "code",
   "execution_count": 8,
   "id": "f9ea29bc",
   "metadata": {},
   "outputs": [],
   "source": [
    "# II.) Scrape The Data From Naukri.com\n",
    "import pandas as pd\n",
    "import numpy as np\n",
    "import time\n",
    "import requests\n",
    "import selenium\n",
    "from selenium import webdriver\n",
    "import warnings\n",
    "warnings.filterwarnings('ignore')\n",
    "from bs4 import BeautifulSoup\n",
    "\n",
    "def find_job(card):\n",
    "    # Fetching job_name\n",
    "    try:\n",
    "        job_name = card.find('a','title').text\n",
    "    except:\n",
    "        job_name = 'Not Mentioned'\n",
    "        \n",
    "    # Fetching company_name\n",
    "    try:\n",
    "        company_name = card.find('span','comp-dtls-wrap').text\n",
    "    except:\n",
    "        company_name = 'Not Mentioned'\n",
    "        \n",
    "    # Fetching company_location\n",
    "    try:\n",
    "        company_location = card.find('span','locWdth').text\n",
    "    except:\n",
    "        company_location = 'Not Mentioned'\n",
    "        \n",
    "    # Fetching salary\n",
    "    try:\n",
    "        salary = card.find('span','ni-job-tuple-icon ni-job-tuple-icon-srp-rupee sal').text\n",
    "    except:\n",
    "        salary = 'Not Mentioned'\n",
    "        \n",
    "    # Fetching job_description\n",
    "    try:\n",
    "        job_description = card.find('span','job-desc ni-job-tuple-icon ni-job-tuple-icon-srp-description').text\n",
    "    except:\n",
    "        job_description = 'Not Mentioned'\n",
    "        \n",
    "    # Fetching job_apply_url\n",
    "    try:\n",
    "        job_apply_url = card.find('div','row1').find('a')\n",
    "        job_apply_url = job_apply_url['href']\n",
    "    except:\n",
    "        job_apply_url = 'Not Mentioned'\n",
    "    \n",
    "    all_job_detail = (job_name,company_name,company_location,salary,job_description,job_apply_url)\n",
    "    return all_job_detail\n",
    "\n",
    "def main():\n",
    "    all_jobs = []\n",
    "    \n",
    "    cards = soup.find_all('div','srp-jobtuple-wrapper')\n",
    "    for i in cards:\n",
    "        temp = find_job(i)\n",
    "        all_jobs.append(temp)\n",
    "    \n",
    "    col = ['job_name','company_name','company_location','salary','job_description','job_apply_url']\n",
    "    naukri_jobs_data = pd.DataFrame(all_jobs,columns = col)\n",
    "    naukri_jobs_data.to_csv('D:\\\\Acadamics\\\\Internship\\\\iGurus\\\\Projects\\\\Naukari_JobStreet_webscrapping\\\\naukri_jobs_data.csv',encoding='utf-8')"
   ]
  },
  {
   "cell_type": "code",
   "execution_count": 9,
   "id": "ef43ec79",
   "metadata": {},
   "outputs": [],
   "source": [
    "main()"
   ]
  }
 ],
 "metadata": {
  "kernelspec": {
   "display_name": "Python 3 (ipykernel)",
   "language": "python",
   "name": "python3"
  },
  "language_info": {
   "codemirror_mode": {
    "name": "ipython",
    "version": 3
   },
   "file_extension": ".py",
   "mimetype": "text/x-python",
   "name": "python",
   "nbconvert_exporter": "python",
   "pygments_lexer": "ipython3",
   "version": "3.11.5"
  }
 },
 "nbformat": 4,
 "nbformat_minor": 5
}
